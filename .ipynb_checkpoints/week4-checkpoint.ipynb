{
 "cells": [
  {
   "cell_type": "code",
   "execution_count": 2,
   "id": "e4d3385b",
   "metadata": {},
   "outputs": [],
   "source": [
    "a=5\n",
    "b=6\n",
    "c=7"
   ]
  },
  {
   "cell_type": "code",
   "execution_count": 3,
   "id": "e2ff00d6",
   "metadata": {},
   "outputs": [
    {
     "data": {
      "text/plain": [
       "30"
      ]
     },
     "execution_count": 3,
     "metadata": {},
     "output_type": "execute_result"
    }
   ],
   "source": [
    "a*b"
   ]
  },
  {
   "cell_type": "code",
   "execution_count": 4,
   "id": "2e58d518",
   "metadata": {},
   "outputs": [
    {
     "data": {
      "text/plain": [
       "210"
      ]
     },
     "execution_count": 4,
     "metadata": {},
     "output_type": "execute_result"
    }
   ],
   "source": [
    "a*b*c"
   ]
  },
  {
   "cell_type": "code",
   "execution_count": 5,
   "id": "66d6342f",
   "metadata": {},
   "outputs": [
    {
     "data": {
      "text/plain": [
       "78125"
      ]
     },
     "execution_count": 5,
     "metadata": {},
     "output_type": "execute_result"
    }
   ],
   "source": [
    "a**c"
   ]
  },
  {
   "cell_type": "code",
   "execution_count": null,
   "id": "2c97a913",
   "metadata": {},
   "outputs": [],
   "source": []
  }
 ],
 "metadata": {
  "kernelspec": {
   "display_name": "Python 3",
   "language": "python",
   "name": "python3"
  },
  "language_info": {
   "codemirror_mode": {
    "name": "ipython",
    "version": 3
   },
   "file_extension": ".py",
   "mimetype": "text/x-python",
   "name": "python",
   "nbconvert_exporter": "python",
   "pygments_lexer": "ipython3",
   "version": "3.8.8"
  }
 },
 "nbformat": 4,
 "nbformat_minor": 5
}
